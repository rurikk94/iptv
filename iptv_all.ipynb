{
 "cells": [
  {
   "cell_type": "code",
   "execution_count": 1,
   "metadata": {},
   "outputs": [
    {
     "name": "stdout",
     "output_type": "stream",
     "text": [
      "Defaulting to user installation because normal site-packages is not writeable\n",
      "Requirement already satisfied: requests in c:\\users\\user\\appdata\\roaming\\python\\python312\\site-packages (2.32.3)\n",
      "Requirement already satisfied: charset-normalizer<4,>=2 in c:\\users\\user\\appdata\\roaming\\python\\python312\\site-packages (from requests) (3.4.0)\n",
      "Requirement already satisfied: idna<4,>=2.5 in c:\\users\\user\\appdata\\roaming\\python\\python312\\site-packages (from requests) (3.10)\n",
      "Requirement already satisfied: urllib3<3,>=1.21.1 in c:\\users\\user\\appdata\\roaming\\python\\python312\\site-packages (from requests) (2.3.0)\n",
      "Requirement already satisfied: certifi>=2017.4.17 in c:\\users\\user\\appdata\\roaming\\python\\python312\\site-packages (from requests) (2024.12.14)\n",
      "Note: you may need to restart the kernel to use updated packages.\n"
     ]
    },
    {
     "name": "stderr",
     "output_type": "stream",
     "text": [
      "\n",
      "[notice] A new release of pip is available: 24.2 -> 24.3.1\n",
      "[notice] To update, run: python.exe -m pip install --upgrade pip\n"
     ]
    }
   ],
   "source": [
    "%pip install requests\n",
    "%pip install xmltodict\n"
   ]
  },
  {
   "cell_type": "code",
   "execution_count": 2,
   "metadata": {},
   "outputs": [
    {
     "name": "stdout",
     "output_type": "stream",
     "text": [
      "Archivo guardado como downloads/epg.20241226092246.xml.gz\n"
     ]
    }
   ],
   "source": [
    "import requests\n",
    "from datetime import datetime\n",
    "import os\n",
    "import gzip\n",
    "import shutil\n",
    "\n",
    "# Ruta de la carpeta y el archivo\n",
    "folder_path = 'downloads'\n",
    "\n",
    "# URL del archivo a descargar\n",
    "url = \"https://epgshare01.online/epgshare01/epg_ripper_ALL_SOURCES1.xml.gz\"\n",
    "\n",
    "# Obtener la fecha y hora actual\n",
    "fechahoraactual = datetime.now().strftime(\"%Y%m%d%H%M%S\")\n",
    "\n",
    "if not os.path.exists(folder_path):\n",
    "    os.makedirs(folder_path)\n",
    "    print(f\"Carpeta '{folder_path}' creada.\")\n",
    "\n",
    "# Nombre del archivo con la fecha y hora actual\n",
    "filename = f\"{folder_path}/epg_ripper_ALL_SOURCES1.xml.gz\"\n",
    "\n",
    "# Descargar el archivo y guardarlo\n",
    "response = requests.get(url)\n",
    "with open(filename, 'wb') as file:\n",
    "    file.write(response.content)\n",
    "\n",
    "print(f\"Archivo guardado como {filename}\")\n",
    "\n",
    "# Descomprimir el archivo descargado\n",
    "\n",
    "# Nombre del archivo descomprimido\n",
    "uncompressed_filename = filename[:-3]\n",
    "\n",
    "with gzip.open(filename, 'rb') as f_in:\n",
    "    with open(uncompressed_filename, 'wb') as f_out:\n",
    "        shutil.copyfileobj(f_in, f_out)\n",
    "\n",
    "print(f\"Archivo descomprimido como {uncompressed_filename}\")"
   ]
  },
  {
   "cell_type": "code",
   "execution_count": null,
   "metadata": {},
   "outputs": [],
   "source": [
    "folder_path = 'downloads'\n",
    "filename = f\"{folder_path}/epg_ripper_ALL_SOURCES1.xml\"\n",
    "\n",
    "# Leer el archivo descomprimido\n",
    "with open(filename, 'r', encoding='utf-8') as file:\n",
    "    data = file.read()\n",
    "\n",
    "    #convertir xml a diccionario\n",
    "    import xmltodict\n",
    "\n",
    "    # Convertir el contenido del archivo XML a un diccionario\n",
    "    xml_dict = xmltodict.parse(data)\n",
    "\n",
    "    print(xml_dict)"
   ]
  }
 ],
 "metadata": {
  "kernelspec": {
   "display_name": "Python 3",
   "language": "python",
   "name": "python3"
  },
  "language_info": {
   "codemirror_mode": {
    "name": "ipython",
    "version": 3
   },
   "file_extension": ".py",
   "mimetype": "text/x-python",
   "name": "python",
   "nbconvert_exporter": "python",
   "pygments_lexer": "ipython3",
   "version": "3.12.6"
  }
 },
 "nbformat": 4,
 "nbformat_minor": 2
}
