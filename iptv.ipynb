{
 "cells": [
  {
   "cell_type": "code",
   "execution_count": 2,
   "metadata": {},
   "outputs": [
    {
     "name": "stdout",
     "output_type": "stream",
     "text": [
      "Defaulting to user installation because normal site-packages is not writeableNote: you may need to restart the kernel to use updated packages.\n",
      "\n",
      "Requirement already satisfied: requests in c:\\users\\user\\appdata\\roaming\\python\\python312\\site-packages (2.32.3)\n",
      "Requirement already satisfied: charset-normalizer<4,>=2 in c:\\users\\user\\appdata\\roaming\\python\\python312\\site-packages (from requests) (3.4.0)\n",
      "Requirement already satisfied: idna<4,>=2.5 in c:\\users\\user\\appdata\\roaming\\python\\python312\\site-packages (from requests) (3.10)\n",
      "Requirement already satisfied: urllib3<3,>=1.21.1 in c:\\users\\user\\appdata\\roaming\\python\\python312\\site-packages (from requests) (2.3.0)\n",
      "Requirement already satisfied: certifi>=2017.4.17 in c:\\users\\user\\appdata\\roaming\\python\\python312\\site-packages (from requests) (2024.12.14)\n",
      "Defaulting to user installation because normal site-packages is not writeable\n",
      "Requirement already satisfied: xmltodict in c:\\users\\user\\appdata\\roaming\\python\\python312\\site-packages (0.14.2)\n",
      "Note: you may need to restart the kernel to use updated packages.\n"
     ]
    }
   ],
   "source": [
    "%pip install requests\n",
    "%pip install xmltodict\n"
   ]
  },
  {
   "cell_type": "code",
   "execution_count": null,
   "metadata": {},
   "outputs": [
    {
     "name": "stdout",
     "output_type": "stream",
     "text": [
      "Archivo guardado como downloads/epg_ripper_MX1.xml.gz\n",
      "Archivo descomprimido como downloads/epg_ripper_MX1.xml\n",
      "Archivo guardado como downloads/jmQcr6fwJB.xml\n"
     ]
    }
   ],
   "source": [
    "import requests\n",
    "from datetime import datetime\n",
    "import os\n",
    "import gzip\n",
    "import shutil\n",
    "\n",
    "from epgs import urls\n",
    "from canales import incluir\n",
    "\n",
    "folder_path = 'downloads'\n",
    "output_name = \"epg.xml\"\n",
    "\n",
    "xmls = []\n",
    "\n",
    "def obtener_extension(filename):\n",
    "    return os.path.splitext(filename)[1]\n",
    "\n",
    "\n",
    "fechahoraactual = datetime.now().strftime(\"%Y%m%d%H%M%S\")\n",
    "\n",
    "if not os.path.exists(folder_path):\n",
    "    os.makedirs(folder_path)\n",
    "    print(f\"Carpeta '{folder_path}' creada.\")\n",
    "\n",
    "for name, url in urls:\n",
    "    extension = obtener_extension(name)\n",
    "    filename = f\"{folder_path}/{name}\"\n",
    "\n",
    "    response = requests.get(url)\n",
    "    with open(filename, 'wb') as file:\n",
    "        file.write(response.content)\n",
    "\n",
    "    print(f\"Archivo guardado como {filename}\")\n",
    "\n",
    "    if extension == '.gz':\n",
    "        uncompressed_filename = filename[:-3]\n",
    "\n",
    "        with gzip.open(filename, 'rb') as f_in:\n",
    "            with open(uncompressed_filename, 'wb') as f_out:\n",
    "                shutil.copyfileobj(f_in, f_out)\n",
    "\n",
    "        print(f\"Archivo descomprimido como {uncompressed_filename}\")\n",
    "        xmls.append(uncompressed_filename)\n",
    "    if extension == '.xml':\n",
    "        xmls.append(filename)\n",
    "\n",
    "canales = []\n",
    "programas = []\n",
    "\n",
    "for filename in xmls:\n",
    "\n",
    "\n",
    "    with open(filename, 'r', encoding='utf-8') as file:\n",
    "        data = file.read()\n",
    "\n",
    "        import xmltodict\n",
    "\n",
    "        xml_dict = xmltodict.parse(data)\n",
    "\n",
    "        for i in incluir:\n",
    "            canales += [p for p in xml_dict[\"tv\"][\"channel\"] if p[\"@id\"] == i]\n",
    "            programas += [p for p in xml_dict[\"tv\"][\"programme\"] if p[\"@channel\"] == i]\n",
    "\n",
    "        programacion = {\n",
    "            'tv': {\n",
    "                '@generator-info-name': 'none',\n",
    "                '@generator-info-url': 'none',\n",
    "                'channel': canales,\n",
    "                'programme': programas\n",
    "            }\n",
    "        }\n",
    "\n",
    "xmltodict.unparse(programacion, output=open(output_name, 'w', encoding=\"utf-8\"), pretty=True)\n",
    "\n",
    "archivo_comprimido = output_name+'.gz'\n",
    "\n",
    "with open(output_name, 'rb') as f_in:\n",
    "    with gzip.open(archivo_comprimido, 'wb') as f_out:\n",
    "        shutil.copyfileobj(f_in, f_out)\n",
    "\n",
    "print(f'Archivo {output_name} comprimido como {archivo_comprimido}')\n",
    "\n"
   ]
  }
 ],
 "metadata": {
  "kernelspec": {
   "display_name": "Python 3",
   "language": "python",
   "name": "python3"
  },
  "language_info": {
   "codemirror_mode": {
    "name": "ipython",
    "version": 3
   },
   "file_extension": ".py",
   "mimetype": "text/x-python",
   "name": "python",
   "nbconvert_exporter": "python",
   "pygments_lexer": "ipython3",
   "version": "3.12.6"
  }
 },
 "nbformat": 4,
 "nbformat_minor": 2
}
